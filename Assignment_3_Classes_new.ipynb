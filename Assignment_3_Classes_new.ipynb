{
 "cells": [
  {
   "cell_type": "code",
   "execution_count": 135,
   "metadata": {},
   "outputs": [],
   "source": [
    "import numpy as np\n",
    "import random\n",
    "import matplotlib.pyplot as plt"
   ]
  },
  {
   "cell_type": "markdown",
   "metadata": {},
   "source": [
    "## Problem 1: Troubled Waters I"
   ]
  },
  {
   "cell_type": "code",
   "execution_count": 136,
   "metadata": {},
   "outputs": [],
   "source": [
    "# This is a class that generates instances of problem 1. Each instance is initialised with zero valued Q matrix, zero values nu\n",
    "# matrix, wind, source, destination, grid dimensions, states, actions, epsilon for epsilon-greedy strategy, discount factor (=1)\n",
    "# and number of episodes\n",
    "\n",
    "class Problem1:\n",
    "    def __init__(self, Q, nu, wind, A, F, N, M, states, actions, eps, alpha, episodes):\n",
    "        self.Q = Q\n",
    "        self.nu = nu\n",
    "        self.wind = wind\n",
    "        self.A = A\n",
    "        self.F = F\n",
    "        self.N = N\n",
    "        self.M = M\n",
    "        self.states = states\n",
    "        self.actions = actions\n",
    "        self.eps = eps\n",
    "        self.alpha = alpha\n",
    "        self.episodes = episodes\n",
    "    \n",
    "    # Function that returns the next state given current state and current action. Takes into account wind.\n",
    "    \n",
    "    def next_state(self,state,action):\n",
    "        \n",
    "        i = (state-1)//self.M # i is the row index\n",
    "        j = (state-1)%self.M  # j is the column index\n",
    "        if(action == 1):\n",
    "            # if we go up \n",
    "            # next i = i - 1 - wind\n",
    "            i = max(0, i-1) \n",
    "            i = max(0, i-self.wind[j])\n",
    "        elif(action == 2):\n",
    "            j = min(j+1,M-1)\n",
    "            i = max(0,i-self.wind[j])\n",
    "        elif(action == 3):\n",
    "            i = min(i+1,N-1)\n",
    "            i = max(0, i-self.wind[j])\n",
    "        else:\n",
    "            j = max(0,j-1)\n",
    "            i = max(0,i-self.wind[j])\n",
    "    \n",
    "        return int(i*self.M + (j+1)) # State from indices\n",
    "    \n",
    "    # Reward for a given state\n",
    "    \n",
    "    def reward(self,state):\n",
    "        if(state == self.F):\n",
    "            return 0\n",
    "        else:\n",
    "            return -1\n",
    "        \n",
    "    # This function assigns probabilities to non-optimal directions when the coin toss of epsilon probability results in \n",
    "    # exploration. Out of boundary directions and the optimal directions are assigned 0 probability\n",
    "        \n",
    "    def set_p(self,state,optimal_action):\n",
    "        p = np.ones(4)\n",
    "    \n",
    "        allowed_actions = 4\n",
    "    \n",
    "        p[optimal_action - 1] = 0\n",
    "        allowed_actions = allowed_actions - 1\n",
    "    \n",
    "        i = (state-1)//self.M # i is the row index\n",
    "        j = (state-1)%self.M  # j is the column index\n",
    "    \n",
    "        if(i == 0 and optimal_action != 1):\n",
    "            allowed_actions = allowed_actions - 1\n",
    "            p[0] = 0\n",
    "    \n",
    "        if(i == self.N-1 and optimal_action != 3):\n",
    "            allowed_actions = allowed_actions - 1\n",
    "            p[2] = 0\n",
    "        \n",
    "        if(j == 0 and optimal_action != 4):\n",
    "            allowed_actions = allowed_actions - 1\n",
    "            p[3] = 0\n",
    "        \n",
    "        if(j == self.M-1 and optimal_action != 2):\n",
    "            allowed_actions = allowed_actions - 1\n",
    "            p[1] = 0\n",
    "        \n",
    "        p = p/allowed_actions\n",
    "    \n",
    "        return p\n",
    "    \n",
    "    # This function sets the Q values of out of boundary actions for all states to negative infinity so that those are not\n",
    "    # picked while generating the optimal path\n",
    "    \n",
    "    def fix(self):\n",
    "    \n",
    "        for x in self.states:\n",
    "            for u in self.actions:\n",
    "            \n",
    "                i = (x-1)//self.M # i is the row index\n",
    "                j = (x-1)%self.M  # j is the column index\n",
    "            \n",
    "            \n",
    "                if(i == 0 and u == 1):\n",
    "                    self.Q[x-1,u-1] = -np.inf\n",
    "                if(i == self.N-1 and u == 3):\n",
    "                    self.Q[x-1,u-1] = -np.inf\n",
    "                if(j == 0 and u == 4):\n",
    "                    self.Q[x-1,u-1] = -np.inf\n",
    "                if(j == self.M-1 and u == 2):\n",
    "                    self.Q[x-1,u-1] = -np.inf\n",
    "    \n",
    "        return self.Q\n",
    "    \n",
    "    # Function that carries out Q learning algorithm, step size function is chosen to be 1/n^0.6 and episodes are run for at\n",
    "    # most N*M iterations.\n",
    "    \n",
    "    def Q_Learning_Discounted_Cost(self):\n",
    "    \n",
    "        runs = 0\n",
    "        \n",
    "        avg_rewards = []\n",
    "        \n",
    "        while(runs < self.episodes):\n",
    "        \n",
    "            iters = 0\n",
    "        \n",
    "            x = self.A\n",
    "            \n",
    "            cur_path = []\n",
    "            cur_rewards = []\n",
    "            \n",
    "            cur_rewards.append(self.reward(x))\n",
    "    \n",
    "            while(x != F and iters < self.M*self.N):\n",
    "        \n",
    "                Q_copy = np.copy(self.Q)\n",
    "\n",
    "                pick = random.uniform(0,1)\n",
    "            \n",
    "                opt_action = np.argmax(self.Q[x-1]) + 1 # argument is action - 1\n",
    "            \n",
    "                if(pick > eps):\n",
    "                \n",
    "                    u = opt_action \n",
    "                \n",
    "                    x_next = self.next_state(x,u)\n",
    "                \n",
    "                    self.nu[x-1,u-1] = self.nu[x-1,u-1] + 1\n",
    "                \n",
    "                    self.Q[x-1,u-1] = Q_copy[x-1,u-1] + (1/(self.nu[x-1,u-1]**(0.6)))*(self.reward(x) + self.alpha*np.max(Q_copy[x_next - 1]) - Q_copy[x-1,u-1])\n",
    "            \n",
    "                else:\n",
    "                \n",
    "                    p = self.set_p(x,opt_action)\n",
    "                \n",
    "                    u = np.random.choice(self.actions,1,replace=False,p=p)[0]\n",
    "                \n",
    "                    x_next = self.next_state(x,u)\n",
    "                \n",
    "                    self.nu[x-1,u-1] = self.nu[x-1,u-1] + 1\n",
    "                \n",
    "                    self.Q[x-1,u-1] = Q_copy[x-1,u-1] + (1/(self.nu[x-1,u-1]**(0.6)))*(self.reward(x) + self.alpha*np.max(Q_copy[x_next - 1]) - Q_copy[x-1,u-1])\n",
    "                \n",
    "                cur_rewards.append(self.reward(x_next))\n",
    "                \n",
    "                x = x_next\n",
    "            \n",
    "                iters = iters + 1\n",
    "                \n",
    "            avg_rewards.append(sum(cur_rewards)/len(cur_rewards))\n",
    "                \n",
    "            runs = runs + 1\n",
    "        \n",
    "        \n",
    "        self.avg_rewards = avg_rewards\n",
    "        \n",
    "        self.Q = self.fix()\n",
    "    \n",
    "        current_state = self.A\n",
    "        path = []\n",
    "        path.append(self.A)\n",
    "    \n",
    "        moves = 0\n",
    "    \n",
    "        while(current_state != self.F and moves < self.N*self.M):\n",
    "            current_state = self.next_state(current_state,np.argmax(self.Q[current_state-1]) + 1)\n",
    "            path.append(current_state)\n",
    "            moves = moves + 1\n",
    "    \n",
    "    \n",
    "        self.path = path\n",
    "        print(path)\n",
    "        # print(self.Q)\n",
    "        # print(self.nu)\n",
    "        \n",
    "    # Function to start Q learning\n",
    "        \n",
    "    def run(self):\n",
    "        self.Q_Learning_Discounted_Cost()\n",
    "        \n",
    "    # Function that prints the grid with the relative value of each state along the path    \n",
    "    \n",
    "    def optimal_values(self):\n",
    "        V = -np.inf*np.ones((self.N,self.M))\n",
    "\n",
    "        path_set = set(self.path)\n",
    "        \n",
    "        for x in self.states:\n",
    "            if(x in path_set):\n",
    "                i = (x-1)//self.M # i is the row index\n",
    "                j = (x-1)%self.M  # j is the column index\n",
    "                V[i,j] = np.max(self.Q[x-1])\n",
    "    \n",
    "        plt.imshow(V)\n",
    "        plt.show()\n",
    "        \n",
    "    # Function that prints the optimal path learnt by the algorithm\n",
    "        \n",
    "    def opt_path(self):\n",
    "        actions_along_path = np.zeros((self.N,self.M), dtype = str)\n",
    "        opt_actions = np.zeros((self.N,self.M))\n",
    "        path_set = set(self.path)\n",
    "\n",
    "        for x in self.states:\n",
    "            i = (x-1)//self.M\n",
    "            j = (x-1)%self.M \n",
    "            opt_actions[i,j] = np.argmax(self.Q[x-1]) + 1\n",
    "            if(x in path_set):\n",
    "                if(opt_actions[i,j] == 1):\n",
    "                    actions_along_path[i,j] = \"N\"\n",
    "                elif(opt_actions[i,j] == 2):\n",
    "                    actions_along_path[i,j] = \"E\"\n",
    "                elif(opt_actions[i,j] == 3):\n",
    "                    actions_along_path[i,j] = \"S\"\n",
    "                else:\n",
    "                    actions_along_path[i,j] = \"W\"\n",
    "            else:\n",
    "                actions_along_path[i,j] = \" \"\n",
    "                \n",
    "            F_i = (self.F - 1)//self.M\n",
    "            F_j = (self.F - 1)%self.M\n",
    "                \n",
    "            actions_along_path[F_i,F_j] = \"F\"\n",
    "        \n",
    "        print(actions_along_path)"
   ]
  },
  {
   "cell_type": "markdown",
   "metadata": {},
   "source": [
    "### Finding the optimal path from A to F "
   ]
  },
  {
   "cell_type": "code",
   "execution_count": 137,
   "metadata": {},
   "outputs": [
    {
     "name": "stdout",
     "output_type": "stream",
     "text": [
      "[37, 38, 39, 28, 17, 6, 7, 8, 9, 10, 11, 12, 24, 36, 48, 60, 72, 59, 46]\n"
     ]
    }
   ],
   "source": [
    "wind = np.ones(12)\n",
    "\n",
    "wind[0] = 0\n",
    "wind[1] = 0\n",
    "wind[2] = 0\n",
    "wind[11] = 0\n",
    "wind[7] = 2\n",
    "wind[8] = 2\n",
    "\n",
    "states = np.arange(start=1,stop=85,step=1)\n",
    "actions = np.arange(start=1,stop=5,step=1)\n",
    "\n",
    "A = 37\n",
    "F = 46\n",
    "N = 7\n",
    "M = 12\n",
    "\n",
    "eps = 0.1\n",
    "alpha = 1\n",
    "episodes = 1000\n",
    "\n",
    "\n",
    "p1 = Problem1(np.zeros((84,4)), np.zeros((84,4)), wind, A, F, N, M, states, actions, eps, alpha, episodes)\n",
    "\n",
    "p1.run()\n"
   ]
  },
  {
   "cell_type": "code",
   "execution_count": 138,
   "metadata": {},
   "outputs": [
    {
     "data": {
      "image/png": "[encoded data removed]",
      "text/plain": [
       "<Figure size 432x288 with 1 Axes>"
      ]
     },
     "metadata": {
      "needs_background": "light"
     },
     "output_type": "display_data"
    }
   ],
   "source": [
    "p1.optimal_values()"
   ]
  },
  {
   "cell_type": "code",
   "execution_count": 139,
   "metadata": {},
   "outputs": [
    {
     "name": "stdout",
     "output_type": "stream",
     "text": [
      "[[' ' ' ' ' ' ' ' ' ' 'E' 'E' 'E' 'E' 'E' 'E' 'S']\n",
      " [' ' ' ' ' ' ' ' 'E' ' ' ' ' ' ' ' ' ' ' ' ' 'S']\n",
      " [' ' ' ' ' ' 'E' ' ' ' ' ' ' ' ' ' ' ' ' ' ' 'S']\n",
      " ['E' 'E' 'E' ' ' ' ' ' ' ' ' ' ' ' ' 'F' ' ' 'S']\n",
      " [' ' ' ' ' ' ' ' ' ' ' ' ' ' ' ' ' ' ' ' 'W' 'S']\n",
      " [' ' ' ' ' ' ' ' ' ' ' ' ' ' ' ' ' ' ' ' ' ' 'W']\n",
      " [' ' ' ' ' ' ' ' ' ' ' ' ' ' ' ' ' ' ' ' ' ' ' ']]\n"
     ]
    }
   ],
   "source": [
    "p1.opt_path()"
   ]
  },
  {
   "cell_type": "markdown",
   "metadata": {},
   "source": [
    "### Average Rewards"
   ]
  },
  {
   "cell_type": "code",
   "execution_count": 140,
   "metadata": {},
   "outputs": [
    {
     "name": "stdout",
     "output_type": "stream",
     "text": [
      "[37, 38, 39, 28, 17, 6, 7, 8, 9, 10, 11, 12, 24, 36, 48, 60, 72, 59, 46]\n"
     ]
    },
    {
     "data": {
      "image/png": "[encoded data removed]",
      "text/plain": [
       "<Figure size 432x288 with 1 Axes>"
      ]
     },
     "metadata": {
      "needs_background": "light"
     },
     "output_type": "display_data"
    }
   ],
   "source": [
    "print(p1.path)\n",
    "\n",
    "plt.plot(np.arange(start = 1, stop = 1001, step = 1), p1.avg_rewards)\n",
    "plt.show()"
   ]
  },
  {
   "cell_type": "markdown",
   "metadata": {},
   "source": [
    "### Comparision of different epsilon values"
   ]
  },
  {
   "cell_type": "code",
   "execution_count": 154,
   "metadata": {},
   "outputs": [
    {
     "name": "stdout",
     "output_type": "stream",
     "text": [
      "[37, 38, 39, 28, 17, 6, 7, 8, 9, 10, 11, 12, 24, 36, 48, 60, 72, 59, 46]\n",
      "[37, 25, 13, 14, 15, 4, 5, 6, 7, 8, 9, 10, 11, 12, 24, 36, 48, 60, 72, 59, 46]\n",
      "[37, 49, 50, 38, 26, 27, 39, 28, 17, 6, 7, 8, 9, 10, 11, 12, 24, 36, 48, 60, 72, 59, 46]\n",
      "[37, 38, 39, 28, 17, 6, 7, 8, 9, 10, 11, 12, 24, 36, 48, 60, 72, 59, 46]\n",
      "[37, 38, 39, 51, 40, 29, 18, 7, 8, 9, 10, 11, 12, 24, 36, 48, 60, 72, 59, 46]\n",
      "[37, 38, 39, 28, 17, 6, 7, 8, 9, 10, 11, 12, 24, 36, 48, 60, 72, 59, 46]\n",
      "[37, 38, 39, 28, 17, 6, 7, 8, 9, 10, 11, 12, 24, 36, 48, 60, 72, 59, 46]\n",
      "[37, 25, 37, 25, 37, 25, 37, 25, 37, 25, 37, 25, 37, 25, 37, 25, 37, 25, 37, 25, 37, 25, 37, 25, 37, 25, 37, 25, 37, 25, 37, 25, 37, 25, 37, 25, 37, 25, 37, 25, 37, 25, 37, 25, 37, 25, 37, 25, 37, 25, 37, 25, 37, 25, 37, 25, 37, 25, 37, 25, 37, 25, 37, 25, 37, 25, 37, 25, 37, 25, 37, 25, 37, 25, 37, 25, 37, 25, 37, 25, 37, 25, 37, 25, 37]\n",
      "[37, 38, 39, 28, 17, 6, 7, 8, 9, 10, 11, 12, 24, 36, 48, 60, 72, 59, 46]\n"
     ]
    }
   ],
   "source": [
    "e1 = Problem1(np.zeros((84,4)), np.zeros((84,4)), wind, A, F, N, M, states, actions, 0.1, alpha, 800)\n",
    "e2 = Problem1(np.zeros((84,4)), np.zeros((84,4)), wind, A, F, N, M, states, actions, 0.2, alpha, 800)\n",
    "e3 = Problem1(np.zeros((84,4)), np.zeros((84,4)), wind, A, F, N, M, states, actions, 0.3, alpha, 800)\n",
    "e4 = Problem1(np.zeros((84,4)), np.zeros((84,4)), wind, A, F, N, M, states, actions, 0.4, alpha, 800)\n",
    "e5 = Problem1(np.zeros((84,4)), np.zeros((84,4)), wind, A, F, N, M, states, actions, 0.5, alpha, 800)\n",
    "e6 = Problem1(np.zeros((84,4)), np.zeros((84,4)), wind, A, F, N, M, states, actions, 0.6, alpha, 800)\n",
    "e7 = Problem1(np.zeros((84,4)), np.zeros((84,4)), wind, A, F, N, M, states, actions, 0.7, alpha, 800)\n",
    "e8 = Problem1(np.zeros((84,4)), np.zeros((84,4)), wind, A, F, N, M, states, actions, 0.8, alpha, 800)\n",
    "e9 = Problem1(np.zeros((84,4)), np.zeros((84,4)), wind, A, F, N, M, states, actions, 0.9, alpha, 800)\n",
    "\n",
    "\n",
    "\n",
    "\n",
    "e1.run()\n",
    "e2.run()\n",
    "e3.run()\n",
    "e4.run()\n",
    "e5.run()\n",
    "e6.run()\n",
    "e7.run()\n",
    "e8.run()\n",
    "e9.run()"
   ]
  },
  {
   "cell_type": "markdown",
   "metadata": {},
   "source": [
    "## Problem 2: Troubled Waters II"
   ]
  },
  {
   "cell_type": "code",
   "execution_count": 155,
   "metadata": {},
   "outputs": [],
   "source": [
    "# This is a class that generates instances of problem 2. Each instance is initialised with zero valued Q matrix, zero values nu\n",
    "# matrix, pirates, source, destination, grid dimensions, states, actions, epsilon for epsilon-greedy strategy, discount factor (=1)\n",
    "# and number of episodes\n",
    "\n",
    "class Problem2:\n",
    "    def __init__(self, Q, nu, pirates, A, F, N, M, states, actions, eps, alpha, episodes):\n",
    "        self.Q = Q\n",
    "        self.nu = nu\n",
    "        self.pirates = pirates\n",
    "        self.A = A\n",
    "        self.F = F\n",
    "        self.N = N\n",
    "        self.M = M\n",
    "        self.states = states\n",
    "        self.actions = actions\n",
    "        self.eps = eps\n",
    "        self.alpha = alpha\n",
    "        self.episodes = episodes\n",
    "        \n",
    "    # This function assigns probabilities to non-optimal directions when the coin toss of epsilon probability results in \n",
    "    # exploration. Out of boundary directions and the optimal directions are assigned 0 probability.\n",
    "\n",
    "    def next_state_2(self,state, action):\n",
    "    # Convert state into grid indices\n",
    "    \n",
    "        if(state in self.pirates):\n",
    "            return self.A\n",
    "    \n",
    "        i = (state-1)//self.M # i is the row index\n",
    "        j = (state-1)%self.M  # j is the column index\n",
    "        \n",
    "        if(action == 1):\n",
    "            i = max(0, i-1) \n",
    "            # i = max(0, i-wind[j])\n",
    "        elif(action == 2):\n",
    "            j = min(j+1,self.M-1)\n",
    "            # i = max(0,i-wind[j])\n",
    "        elif(action == 3):\n",
    "            i = min(i+1,self.N-1)\n",
    "            # i = max(0, i-wind[j])\n",
    "        else:\n",
    "            j = max(0,j-1)\n",
    "            # i = max(0,i-wind[j])\n",
    "    \n",
    "        return int(i*self.M + (j+1)) # State from indices\n",
    "    \n",
    "    # Function that gives the reward associated with a state\n",
    "    \n",
    "    def reward_2(self,state):\n",
    "        if state in self.pirates:\n",
    "            return -100\n",
    "        elif(state == self.F):\n",
    "            return 0\n",
    "        else:\n",
    "            return -1    \n",
    "        \n",
    "    # Same as in problem 1, this function assigns probabilities to non-optimal directions when the coin toss of \n",
    "    # epsilon probability results in exploration. Out of boundary directions and the optimal directions are \n",
    "    # assigned 0 probability\n",
    "         \n",
    "    def set_p(self,state,optimal_action):\n",
    "        p = np.ones(4)\n",
    "    \n",
    "        allowed_actions = 4\n",
    "    \n",
    "        p[optimal_action - 1] = 0\n",
    "        allowed_actions = allowed_actions - 1\n",
    "    \n",
    "        i = (state-1)//self.M # i is the row index\n",
    "        j = (state-1)%self.M  # j is the column index\n",
    "    \n",
    "        if(i == 0 and optimal_action != 1):\n",
    "            allowed_actions = allowed_actions - 1\n",
    "            p[0] = 0\n",
    "    \n",
    "        if(i == self.N-1 and optimal_action != 3):\n",
    "            allowed_actions = allowed_actions - 1\n",
    "            p[2] = 0\n",
    "        \n",
    "        if(j == 0 and optimal_action != 4):\n",
    "            allowed_actions = allowed_actions - 1\n",
    "            p[3] = 0\n",
    "        \n",
    "        if(j == self.M-1 and optimal_action != 2):\n",
    "            allowed_actions = allowed_actions - 1\n",
    "            p[1] = 0\n",
    "        \n",
    "        p = p/allowed_actions\n",
    "    \n",
    "        return p\n",
    "    \n",
    "    # Same as in problem 1, this function sets out of bounds actions Q values to negative infinity\n",
    "    \n",
    "    def fix(self):\n",
    "    \n",
    "        for x in self.states:\n",
    "            for u in self.actions:\n",
    "            \n",
    "                i = (x-1)//self.M # i is the row index\n",
    "                j = (x-1)%self.M  # j is the column index\n",
    "            \n",
    "            \n",
    "                if(i == 0 and u == 1):\n",
    "                    self.Q[x-1,u-1] = -np.inf\n",
    "                if(i == self.N-1 and u == 3):\n",
    "                    self.Q[x-1,u-1] = -np.inf\n",
    "                if(j == 0 and u == 4):\n",
    "                    self.Q[x-1,u-1] = -np.inf\n",
    "                if(j == self.M-1 and u == 2):\n",
    "                    self.Q[x-1,u-1] = -np.inf\n",
    "    \n",
    "        return self.Q\n",
    "\n",
    "    # Function that carries out Q learning algorithm, step size function is chosen to be 1/n^0.6 and episodes are run for at\n",
    "    # most N*M iterations. Stores average rewards for every episode and the actual path taken by the agent every 10 episodes.\n",
    "\n",
    "    def Q_Learning_Discounted_Cost_2(self):\n",
    "        \n",
    "        runs = 0\n",
    "        \n",
    "        avg_rewards = []\n",
    "        \n",
    "        all_paths = []\n",
    "        \n",
    "        while(runs < self.episodes):\n",
    "            \n",
    "            path_taken = []\n",
    "    \n",
    "            iters = 0\n",
    "        \n",
    "            x = self.A\n",
    "            \n",
    "            cur_path = []\n",
    "            cur_rewards = []\n",
    "            \n",
    "            cur_rewards.append(self.reward_2(x))\n",
    "            path_taken.append(x)\n",
    "    \n",
    "            while(x != self.F and iters < self.N*self.M):\n",
    "            \n",
    "                Q_copy = np.copy(self.Q)\n",
    "                \n",
    "                pick = random.uniform(0,1)\n",
    "            \n",
    "                opt_action = np.argmax(self.Q[x-1]) + 1 # argument is action - 1\n",
    "            \n",
    "                if(pick > eps):\n",
    "                \n",
    "                    u = opt_action \n",
    "                \n",
    "                    x_next = self.next_state_2(x,u)\n",
    "                \n",
    "                    self.nu[x-1,u-1] = self.nu[x-1,u-1] + 1\n",
    "                \n",
    "                    self.Q[x-1,u-1] = Q_copy[x-1,u-1] + (1/(self.nu[x-1,u-1]**(0.6)))*(self.reward_2(x) + self.alpha*np.max(Q_copy[x_next - 1]) - Q_copy[x-1,u-1])\n",
    "            \n",
    "                else:\n",
    "                \n",
    "                    p = self.set_p(x,opt_action)\n",
    "                \n",
    "                    u = np.random.choice(self.actions,1,replace=False,p=p)[0]\n",
    "                \n",
    "                    x_next = self.next_state_2(x,u)\n",
    "                \n",
    "                    self.nu[x-1,u-1] = self.nu[x-1,u-1] + 1\n",
    "                \n",
    "                    self.Q[x-1,u-1] = Q_copy[x-1,u-1] + (1/(self.nu[x-1,u-1]**(0.6)))*(self.reward_2(x) + self.alpha*np.max(Q_copy[x_next - 1]) - Q_copy[x-1,u-1])\n",
    "                \n",
    "                cur_rewards.append(self.reward_2(x_next))\n",
    "                path_taken.append(x_next)\n",
    "                \n",
    "                x = x_next\n",
    "                \n",
    "                iters = iters + 1\n",
    "            \n",
    "            avg_rewards.append(sum(cur_rewards)/len(cur_rewards))\n",
    "\n",
    "            \n",
    "            if(runs%10 == 0):\n",
    "                all_paths.append(path_taken)\n",
    "                \n",
    "            runs = runs + 1\n",
    "            \n",
    "    \n",
    "        self.avg_rewards = avg_rewards\n",
    "        self.all_paths = all_paths\n",
    "        self.Q = self.fix()\n",
    "    \n",
    "        current_state = A\n",
    "        path = []\n",
    "        path.append(A)\n",
    "    \n",
    "        moves = 0\n",
    "    \n",
    "        while(current_state != self.F and moves < self.N*self.M):\n",
    "            current_state = self.next_state_2(current_state,np.argmax(self.Q[current_state-1]) + 1)\n",
    "            path.append(current_state)\n",
    "            moves = moves + 1\n",
    "    \n",
    "        self.path = path\n",
    "        \n",
    "        \n",
    "    def run(self):\n",
    "        self.Q_Learning_Discounted_Cost_2()\n",
    "        \n",
    "    # Prints the optimal values along the path\n",
    "        \n",
    "    def optimal_values(self):\n",
    "        V = np.zeros((self.N,self.M))\n",
    "\n",
    "        for x in self.states:\n",
    "            i = (x-1)//self.M # i is the row index\n",
    "            j = (x-1)%self.M  # j is the column index\n",
    "            V[i,j] = np.max(self.Q[x-1])\n",
    "    \n",
    "        plt.imshow(V)\n",
    "        plt.show()\n",
    "    \n",
    "    \n",
    "    # Function to print the optimal path    \n",
    "    \n",
    "    def opt_path(self):\n",
    "        actions_along_path = np.zeros((self.N,self.M), dtype = str)\n",
    "        opt_actions = np.zeros((self.N,self.M))\n",
    "        path_set = set(self.path)\n",
    "\n",
    "        for x in self.states:\n",
    "            i = (x-1)//self.M\n",
    "            j = (x-1)%self.M \n",
    "            opt_actions[i,j] = np.argmax(self.Q[x-1]) + 1\n",
    "            if(x in path_set):\n",
    "                if(opt_actions[i,j] == 1):\n",
    "                    actions_along_path[i,j] = \"N\"\n",
    "                elif(opt_actions[i,j] == 2):\n",
    "                    actions_along_path[i,j] = \"E\"\n",
    "                elif(opt_actions[i,j] == 3):\n",
    "                    actions_along_path[i,j] = \"S\"\n",
    "                else:\n",
    "                    actions_along_path[i,j] = \"W\"\n",
    "            else:\n",
    "                actions_along_path[i,j] = \" \"\n",
    "                \n",
    "            F_i = (self.F - 1)//self.M\n",
    "            F_j = (self.F - 1)%self.M\n",
    "                \n",
    "            actions_along_path[F_i,F_j] = \"F\"\n",
    "        \n",
    "        print(actions_along_path)\n",
    "\n",
    "        "
   ]
  },
  {
   "cell_type": "markdown",
   "metadata": {},
   "source": [
    "### Learning the optimal policy"
   ]
  },
  {
   "cell_type": "code",
   "execution_count": 163,
   "metadata": {},
   "outputs": [
    {
     "name": "stdout",
     "output_type": "stream",
     "text": [
      "[37, 25, 26, 27, 28, 29, 30, 31, 32, 33, 34, 35, 36, 48]\n",
      "[37, 25, 26, 27, 28, 29, 30, 31, 32, 33, 34, 35, 36, 48]\n",
      "[37, 25, 26, 27, 28, 29, 30, 31, 32, 33, 34, 35, 36, 48]\n",
      "[37, 25, 26, 27, 28, 29, 30, 31, 32, 33, 34, 35, 36, 48]\n",
      "[37, 25, 26, 27, 28, 29, 30, 31, 32, 33, 34, 35, 36, 48]\n",
      "[37, 25, 26, 27, 28, 29, 30, 31, 32, 33, 34, 35, 36, 48]\n",
      "[37, 25, 26, 27, 28, 29, 30, 31, 32, 33, 34, 35, 36, 48]\n",
      "[37, 25, 26, 27, 28, 29, 30, 31, 32, 33, 34, 35, 36, 48]\n",
      "[37, 25, 26, 27, 28, 29, 30, 31, 32, 33, 34, 35, 36, 48]\n"
     ]
    }
   ],
   "source": [
    "f1 = Problem2(np.zeros((48,4)),np.zeros((48,4)),set([38, 39, 40, 41, 42, 43, 44, 45, 46, 47]),37,48,4,12, np.arange(start=1,stop= 49,step=1), np.arange(start=1,stop= 5,step=1), 0.1, 1, 800)\n",
    "f2 = Problem2(np.zeros((48,4)),np.zeros((48,4)),set([38, 39, 40, 41, 42, 43, 44, 45, 46, 47]),37,48,4,12, np.arange(start=1,stop= 49,step=1), np.arange(start=1,stop= 5,step=1), 0.2, 1, 800)\n",
    "f3 = Problem2(np.zeros((48,4)),np.zeros((48,4)),set([38, 39, 40, 41, 42, 43, 44, 45, 46, 47]),37,48,4,12, np.arange(start=1,stop= 49,step=1), np.arange(start=1,stop= 5,step=1), 0.3, 1, 800)\n",
    "f4 = Problem2(np.zeros((48,4)),np.zeros((48,4)),set([38, 39, 40, 41, 42, 43, 44, 45, 46, 47]),37,48,4,12, np.arange(start=1,stop= 49,step=1), np.arange(start=1,stop= 5,step=1), 0.4, 1, 800)\n",
    "f5 = Problem2(np.zeros((48,4)),np.zeros((48,4)),set([38, 39, 40, 41, 42, 43, 44, 45, 46, 47]),37,48,4,12, np.arange(start=1,stop= 49,step=1), np.arange(start=1,stop= 5,step=1), 0.5, 1, 800)\n",
    "f6 = Problem2(np.zeros((48,4)),np.zeros((48,4)),set([38, 39, 40, 41, 42, 43, 44, 45, 46, 47]),37,48,4,12, np.arange(start=1,stop= 49,step=1), np.arange(start=1,stop= 5,step=1), 0.6, 1, 800)\n",
    "f7 = Problem2(np.zeros((48,4)),np.zeros((48,4)),set([38, 39, 40, 41, 42, 43, 44, 45, 46, 47]),37,48,4,12, np.arange(start=1,stop= 49,step=1), np.arange(start=1,stop= 5,step=1), 0.7, 1, 800)\n",
    "f8 = Problem2(np.zeros((48,4)),np.zeros((48,4)),set([38, 39, 40, 41, 42, 43, 44, 45, 46, 47]),37,48,4,12, np.arange(start=1,stop= 49,step=1), np.arange(start=1,stop= 5,step=1), 0.8, 1, 800)\n",
    "f9 = Problem2(np.zeros((48,4)),np.zeros((48,4)),set([38, 39, 40, 41, 42, 43, 44, 45, 46, 47]),37,48,4,12, np.arange(start=1,stop= 49,step=1), np.arange(start=1,stop= 5,step=1), 0.9, 1, 800)\n",
    "\n",
    "f1.run()\n",
    "f2.run()\n",
    "f3.run()\n",
    "f4.run()\n",
    "f5.run()\n",
    "f6.run()\n",
    "f7.run()\n",
    "f8.run()\n",
    "f9.run()\n",
    "\n",
    "print(f1.path)\n",
    "print(f2.path)\n",
    "print(f3.path)\n",
    "print(f4.path)\n",
    "print(f5.path)\n",
    "print(f6.path)\n",
    "print(f7.path)\n",
    "print(f8.path)\n",
    "print(f9.path)"
   ]
  },
  {
   "cell_type": "code",
   "execution_count": 156,
   "metadata": {},
   "outputs": [
    {
     "name": "stdout",
     "output_type": "stream",
     "text": [
      "[37, 25, 26, 27, 28, 29, 30, 31, 32, 33, 34, 35, 36, 48]\n"
     ]
    }
   ],
   "source": [
    "# Running an instance of the Problem 2 class and observing average rewards\n",
    "\n",
    "\n",
    "p2 = Problem2(np.zeros((48,4)),np.zeros((48,4)),set([38, 39, 40, 41, 42, 43, 44, 45, 46, 47]),37,48,4,12, np.arange(start=1,stop= 49,step=1), np.arange(start=1,stop= 5,step=1), 0.3, 1, 1000)\n",
    "\n",
    "p2.run()\n",
    "\n",
    "print(p2.path)"
   ]
  },
  {
   "cell_type": "code",
   "execution_count": 157,
   "metadata": {},
   "outputs": [
    {
     "data": {
      "image/png": "[encoded data removed]",
      "text/plain": [
       "<Figure size 432x288 with 1 Axes>"
      ]
     },
     "metadata": {
      "needs_background": "light"
     },
     "output_type": "display_data"
    },
    {
     "data": {
      "image/png": "[encoded data removed]",
      "text/plain": [
       "<Figure size 432x288 with 1 Axes>"
      ]
     },
     "metadata": {
      "needs_background": "light"
     },
     "output_type": "display_data"
    }
   ],
   "source": [
    "# Plotting average reward over 1000 episodes (during learning)\n",
    "\n",
    "plt.plot(np.arange(start = 1, stop = 1001, step = 1), p2.avg_rewards)\n",
    "plt.show()\n",
    "\n",
    "plt.plot(np.arange(start = 1, stop = 1001, step = 1), p2_second.avg_rewards)\n",
    "plt.show()"
   ]
  },
  {
   "cell_type": "markdown",
   "metadata": {},
   "source": [
    "### Average reward using optimal/near optimal policy for 1000 episodes"
   ]
  },
  {
   "cell_type": "code",
   "execution_count": 168,
   "metadata": {},
   "outputs": [
    {
     "name": "stdout",
     "output_type": "stream",
     "text": [
      "[37, 25, 26, 27, 28, 29, 30, 31, 32, 33, 34, 35, 36, 48]\n"
     ]
    },
    {
     "data": {
      "image/png": "[encoded data removed]",
      "text/plain": [
       "<Figure size 432x288 with 1 Axes>"
      ]
     },
     "metadata": {
      "needs_background": "light"
     },
     "output_type": "display_data"
    }
   ],
   "source": [
    "# Plotting average rewards using the converged policy obtained in previous runs\n",
    "\n",
    "p2_work = Problem2(np.copy(p2.Q),np.zeros((48,4)),set([38, 39, 40, 41, 42, 43, 44, 45, 46, 47]),37,48,4,12, np.arange(start=1,stop= 49,step=1), np.arange(start=1,stop= 5,step=1), 0.3, 1, 1000)\n",
    "\n",
    "p2_work.run()\n",
    "\n",
    "print(p2_work.path)\n",
    "\n",
    "plt.plot(np.arange(start = 1, stop = 1001, step = 1), p2_work.avg_rewards)\n",
    "plt.show()"
   ]
  },
  {
   "cell_type": "code",
   "execution_count": 165,
   "metadata": {},
   "outputs": [
    {
     "name": "stdout",
     "output_type": "stream",
     "text": [
      "[[' ' ' ' ' ' ' ' ' ' ' ' ' ' ' ' ' ' ' ' ' ' ' ']\n",
      " [' ' ' ' ' ' ' ' ' ' ' ' ' ' ' ' ' ' ' ' ' ' ' ']\n",
      " ['E' 'E' 'E' 'E' 'E' 'E' 'E' 'E' 'E' 'E' 'E' 'S']\n",
      " ['N' ' ' ' ' ' ' ' ' ' ' ' ' ' ' ' ' ' ' ' ' 'F']]\n"
     ]
    }
   ],
   "source": [
    "p2_work.opt_path()"
   ]
  },
  {
   "cell_type": "markdown",
   "metadata": {},
   "source": [
    "### Printing the path actually taken every 10 episodes\n",
    "\n",
    "Note that several episodes have a path where the pirates are being visited even though the Q values had supposedly converged in the earlier run. Hence learning has not taken place."
   ]
  },
  {
   "cell_type": "code",
   "execution_count": 167,
   "metadata": {},
   "outputs": [
    {
     "name": "stdout",
     "output_type": "stream",
     "text": [
      "[[37, 25, 26, 25, 26, 27, 28, 29, 30, 31, 32, 33, 21, 22, 23, 35, 36, 24, 36, 48], [37, 38, 37, 25, 26, 27, 28, 29, 30, 31, 32, 33, 34, 35, 36, 48], [37, 25, 26, 27, 28, 29, 30, 31, 32, 33, 34, 35, 36, 48], [37, 38, 37, 38, 37, 25, 26, 27, 28, 29, 30, 42, 37, 25, 26, 27, 28, 29, 30, 31, 32, 33, 45, 37, 25, 13, 25, 26, 27, 28, 29, 30, 31, 32, 33, 34, 35, 36, 24, 36, 48], [37, 25, 26, 27, 28, 29, 28, 29, 30, 31, 32, 20, 21, 22, 23, 24, 36, 48], [37, 38, 37, 25, 26, 27, 28, 29, 30, 31, 32, 33, 34, 35, 36, 48], [37, 25, 26, 27, 15, 16, 17, 18, 19, 20, 21, 22, 23, 24, 36, 48], [37, 25, 26, 27, 28, 29, 30, 42, 37, 25, 26, 27, 28, 29, 30, 31, 32, 31, 32, 33, 32, 31, 32, 33, 34, 35, 36, 48], [37, 25, 26, 27, 15, 3, 2, 3, 4, 5, 6, 7, 8, 9, 21, 22, 23, 24, 36, 48], [37, 25, 26, 27, 28, 29, 30, 31, 32, 33, 34, 35, 36, 48], [37, 25, 26, 27, 28, 27, 28, 29, 30, 31, 32, 33, 34, 35, 36, 48], [37, 25, 26, 27, 28, 29, 30, 31, 32, 33, 34, 35, 36, 48], [37, 25, 26, 27, 28, 29, 30, 31, 32, 44, 37, 38, 37, 38, 37, 25, 26, 27, 28, 29, 30, 31, 32, 33, 34, 22, 23, 24, 36, 24, 36, 48], [37, 25, 26, 27, 28, 29, 30, 31, 32, 33, 34, 35, 36, 48], [37, 25, 26, 27, 28, 29, 30, 31, 32, 33, 45, 37, 38, 37, 38, 37, 25, 26, 27, 15, 16, 17, 29, 30, 31, 32, 33, 34, 22, 23, 24, 36, 48], [37, 38, 37, 25, 26, 38, 37, 38, 37, 25, 26, 27, 28, 29, 30, 31, 30, 31, 32, 33, 34, 35, 36, 48], [37, 25, 26, 27, 28, 29, 30, 31, 30, 31, 32, 33, 34, 35, 36, 48], [37, 25, 26, 27, 15, 16, 4, 3, 4, 5, 4, 16, 17, 18, 19, 20, 21, 22, 23, 24, 23, 24, 36, 48], [37, 25, 26, 27, 28, 29, 30, 31, 32, 33, 34, 33, 34, 35, 36, 35, 36, 48], [37, 25, 26, 38, 37, 25, 26, 27, 28, 29, 30, 29, 30, 42, 37, 25, 26, 27, 28, 29, 28, 29, 30, 31, 32, 20, 21, 22, 23, 24, 36, 48], [37, 25, 26, 27, 28, 29, 30, 31, 32, 33, 34, 35, 36, 48], [37, 25, 26, 27, 28, 16, 17, 18, 19, 20, 21, 22, 23, 24, 36, 48], [37, 25, 26, 27, 28, 40, 37, 25, 26, 27, 28, 29, 30, 31, 32, 33, 34, 35, 47, 37, 25, 26, 27, 15, 27, 28, 29, 30, 31, 32, 33, 34, 35, 36, 48], [37, 25, 26, 27, 39, 37, 25, 26, 27, 28, 29, 28, 29, 30, 31, 32, 33, 34, 35, 36, 48], [37, 25, 13, 14, 15, 16, 17, 18, 19, 20, 21, 22, 23, 24, 36, 48], [37, 25, 26, 27, 28, 40, 37, 25, 26, 27, 15, 14, 2, 3, 15, 16, 17, 18, 19, 7, 8, 9, 21, 22, 23, 35, 36, 48], [37, 25, 26, 27, 26, 38, 37, 25, 26, 27, 28, 29, 30, 31, 32, 33, 34, 35, 36, 48], [37, 38, 37, 25, 26, 25, 26, 27, 28, 29, 30, 31, 32, 33, 34, 35, 36, 48], [37, 38, 37, 25, 26, 27, 28, 29, 30, 31, 32, 33, 45, 37, 25, 26, 27, 28, 40, 37, 25, 26, 27, 28, 29, 30, 31, 32, 33, 34, 46, 37, 25, 26, 27, 28, 16, 17, 18, 19, 20, 19, 20, 21, 22, 23, 24, 36, 48], [37, 25, 26, 27, 28, 29, 30, 31, 32, 33, 34, 35, 36, 48], [37, 25, 26, 27, 28, 29, 30, 31, 32, 33, 34, 35, 36, 48], [37, 25, 26, 27, 28, 29, 30, 31, 43, 37, 25, 26, 27, 28, 29, 17, 5, 6, 7, 8, 9, 10, 11, 12, 24, 36, 48], [37, 25, 26, 27, 28, 29, 30, 31, 43, 37, 25, 26, 27, 28, 29, 30, 31, 32, 33, 34, 35, 36, 48], [37, 25, 26, 27, 28, 29, 17, 18, 19, 20, 19, 20, 21, 22, 23, 24, 36, 24, 36, 48], [37, 25, 13, 14, 26, 27, 28, 29, 30, 31, 32, 33, 34, 35, 36, 48], [37, 25, 26, 27, 28, 29, 30, 31, 32, 33, 34, 22, 23, 35, 36, 48], [37, 25, 26, 27, 28, 29, 28, 29, 30, 31, 32, 33, 34, 35, 36, 48], [37, 25, 26, 27, 28, 29, 30, 31, 32, 33, 34, 35, 36, 48], [37, 38, 37, 38, 37, 25, 26, 27, 28, 29, 30, 31, 32, 33, 34, 35, 23, 24, 36, 35, 36, 48], [37, 25, 26, 27, 28, 29, 30, 42, 37, 25, 26, 27, 28, 29, 30, 31, 32, 33, 34, 35, 36, 48], [37, 38, 37, 25, 26, 27, 28, 29, 30, 31, 32, 44, 37, 25, 26, 38, 37, 25, 26, 27, 28, 29, 30, 31, 32, 33, 34, 35, 36, 48], [37, 25, 26, 27, 28, 29, 30, 31, 32, 33, 34, 35, 47, 37, 25, 37, 25, 26, 27, 28, 29, 30, 31, 32, 33, 34, 35, 36, 35, 36, 48], [37, 25, 26, 27, 28, 29, 30, 42, 37, 25, 26, 27, 28, 29, 30, 31, 32, 33, 34, 35, 36, 48], [37, 25, 26, 27, 28, 29, 30, 31, 32, 33, 34, 35, 36, 35, 36, 48], [37, 25, 26, 38, 37, 25, 26, 27, 28, 29, 30, 31, 32, 33, 34, 35, 36, 48], [37, 25, 26, 25, 37, 25, 26, 27, 28, 40, 37, 25, 26, 27, 28, 29, 30, 31, 32, 33, 34, 35, 36, 48], [37, 25, 26, 27, 28, 29, 30, 31, 32, 33, 34, 35, 36, 48], [37, 25, 26, 27, 28, 29, 17, 18, 19, 20, 21, 22, 21, 22, 23, 35, 47, 37, 25, 26, 27, 28, 29, 30, 31, 32, 33, 34, 35, 36, 48], [37, 25, 26, 25, 37, 38, 37, 25, 26, 27, 28, 40, 37, 38, 37, 25, 26, 27, 28, 29, 30, 31, 32, 33, 34, 35, 36, 48], [37, 25, 26, 27, 28, 29, 30, 31, 32, 33, 34, 33, 34, 35, 36, 48], [37, 38, 37, 25, 26, 27, 15, 16, 17, 29, 30, 31, 32, 44, 37, 25, 26, 27, 28, 29, 30, 31, 32, 33, 34, 35, 36, 48], [37, 25, 26, 27, 28, 29, 41, 37, 25, 26, 27, 28, 29, 30, 31, 32, 33, 32, 33, 34, 35, 36, 48], [37, 25, 26, 27, 39, 37, 25, 26, 27, 28, 29, 30, 18, 19, 7, 6, 7, 8, 7, 8, 9, 10, 22, 23, 24, 36, 48], [37, 25, 26, 27, 28, 29, 17, 18, 19, 20, 21, 22, 23, 24, 36, 24, 36, 48], [37, 25, 26, 27, 28, 29, 30, 31, 32, 33, 34, 35, 36, 48], [37, 38, 37, 25, 26, 38, 37, 25, 26, 27, 28, 29, 30, 31, 32, 33, 34, 35, 36, 48], [37, 25, 26, 27, 28, 29, 30, 42, 37, 25, 26, 27, 28, 16, 17, 18, 19, 20, 21, 22, 23, 24, 36, 48], [37, 25, 26, 27, 28, 29, 30, 31, 32, 33, 34, 35, 36, 48], [37, 25, 26, 27, 28, 29, 30, 31, 32, 33, 34, 35, 36, 48], [37, 25, 26, 27, 26, 27, 28, 29, 30, 31, 30, 29, 30, 31, 32, 20, 21, 20, 21, 22, 23, 24, 36, 24, 36, 48], [37, 25, 26, 27, 28, 29, 30, 31, 32, 33, 34, 35, 36, 48], [37, 25, 13, 14, 15, 16, 17, 18, 19, 31, 32, 44, 37, 25, 26, 27, 28, 29, 30, 31, 32, 33, 34, 35, 36, 48], [37, 25, 26, 27, 28, 29, 30, 31, 32, 33, 45, 37, 25, 26, 27, 28, 29, 30, 31, 32, 33, 34, 35, 34, 35, 36, 48], [37, 25, 26, 27, 28, 29, 30, 31, 32, 33, 34, 35, 36, 48], [37, 25, 26, 27, 15, 16, 17, 18, 19, 20, 21, 22, 23, 24, 36, 24, 36, 48], [37, 38, 37, 25, 26, 27, 15, 16, 17, 18, 19, 20, 21, 22, 23, 24, 36, 48], [37, 25, 26, 27, 28, 29, 30, 31, 32, 33, 34, 35, 36, 48], [37, 25, 26, 27, 28, 29, 30, 31, 43, 37, 25, 26, 27, 28, 29, 30, 29, 30, 31, 32, 33, 34, 33, 34, 35, 36, 48], [37, 25, 26, 27, 28, 29, 30, 31, 32, 33, 34, 35, 36, 48], [37, 25, 26, 27, 28, 29, 30, 31, 32, 33, 34, 35, 36, 48], [37, 38, 37, 25, 26, 27, 28, 29, 30, 31, 32, 33, 34, 35, 36, 48], [37, 25, 26, 27, 39, 37, 25, 26, 27, 28, 29, 30, 31, 32, 33, 45, 37, 25, 37, 38, 37, 25, 26, 27, 28, 29, 30, 31, 32, 33, 34, 35, 36, 48], [37, 25, 26, 27, 26, 27, 39, 37, 25, 26, 27, 28, 29, 30, 31, 32, 33, 34, 35, 36, 48], [37, 38, 37, 38, 37, 25, 26, 27, 28, 29, 30, 31, 32, 33, 34, 35, 36, 48], [37, 25, 26, 14, 15, 16, 17, 18, 19, 20, 21, 22, 23, 24, 36, 48], [37, 25, 26, 27, 28, 29, 30, 31, 32, 33, 34, 35, 36, 35, 47, 37, 25, 13, 14, 15, 16, 17, 18, 19, 20, 21, 20, 19, 20, 8, 9, 10, 11, 12, 24, 36, 48], [37, 25, 26, 27, 28, 29, 30, 31, 32, 33, 34, 35, 47, 37, 38, 37, 25, 26, 27, 28, 29, 30, 31, 32, 33, 34, 35, 36, 48], [37, 25, 13, 14, 15, 16, 17, 18, 17, 5, 6, 7, 8, 9, 8, 7, 19, 20, 21, 22, 23, 24, 36, 48], [37, 25, 13, 14, 15, 27, 28, 29, 41, 37, 25, 26, 27, 28, 29, 30, 31, 32, 33, 34, 35, 36, 48], [37, 38, 37, 25, 26, 27, 28, 29, 30, 31, 32, 33, 34, 35, 36, 48], [37, 25, 26, 27, 28, 29, 30, 31, 32, 33, 34, 35, 36, 48], [37, 25, 26, 14, 15, 27, 28, 29, 30, 31, 32, 33, 34, 35, 36, 48], [37, 25, 26, 27, 28, 29, 30, 31, 32, 33, 34, 35, 36, 48], [37, 25, 26, 14, 2, 3, 4, 5, 6, 7, 8, 20, 21, 22, 23, 24, 36, 48], [37, 25, 26, 27, 28, 40, 37, 25, 26, 27, 28, 29, 30, 31, 32, 33, 34, 35, 36, 48], [37, 25, 26, 27, 28, 29, 30, 31, 32, 33, 34, 35, 36, 48], [37, 25, 26, 27, 28, 29, 30, 31, 32, 33, 34, 35, 36, 48], [37, 25, 26, 27, 15, 16, 17, 18, 19, 31, 32, 33, 34, 35, 47, 37, 25, 26, 27, 28, 29, 30, 31, 32, 33, 34, 35, 36, 48], [37, 25, 26, 27, 26, 27, 28, 29, 30, 31, 32, 33, 34, 35, 36, 48], [37, 25, 26, 27, 28, 29, 30, 31, 32, 33, 34, 35, 23, 24, 36, 48], [37, 25, 26, 27, 28, 29, 30, 31, 32, 33, 34, 35, 47, 37, 25, 26, 27, 28, 29, 30, 42, 37, 25, 26, 38, 37, 25, 26, 27, 28, 27, 26, 27, 28, 29, 30, 31, 32, 33, 34, 46, 37, 25, 26, 27, 28, 29, 41, 37], [37, 25, 26, 27, 28, 29, 30, 42, 37, 25, 26, 27, 28, 29, 30, 31, 32, 33, 34, 35, 36, 48], [37, 25, 26, 27, 28, 29, 30, 31, 32, 33, 34, 35, 36, 24, 36, 48], [37, 25, 26, 27, 28, 29, 30, 29, 30, 31, 43, 37, 25, 26, 27, 28, 29, 30, 31, 32, 33, 34, 35, 36, 48], [37, 38, 37, 25, 26, 38, 37, 38, 37, 25, 37, 25, 26, 27, 28, 29, 30, 31, 32, 20, 21, 22, 23, 24, 36, 48], [37, 25, 26, 25, 13, 25, 26, 27, 28, 29, 30, 31, 32, 33, 32, 33, 34, 35, 36, 48], [37, 25, 26, 27, 28, 29, 30, 31, 32, 33, 34, 35, 23, 24, 36, 48], [37, 25, 26, 27, 15, 16, 17, 18, 19, 20, 21, 22, 23, 24, 36, 48], [37, 25, 26, 27, 28, 29, 30, 31, 43, 37, 38, 37, 38, 37, 25, 26, 38, 37, 25, 26, 27, 28, 29, 30, 31, 32, 33, 34, 35, 36, 48], [37, 25, 26, 27, 15, 16, 17, 29, 30, 31, 32, 33, 34, 33, 34, 35, 36, 48]]\n"
     ]
    }
   ],
   "source": [
    "print(p2_work.all_paths)"
   ]
  },
  {
   "cell_type": "code",
   "execution_count": null,
   "metadata": {},
   "outputs": [],
   "source": []
  }
 ],
 "metadata": {
  "kernelspec": {
   "display_name": "Python 3",
   "language": "python",
   "name": "python3"
  },
  "language_info": {
   "codemirror_mode": {
    "name": "ipython",
    "version": 3
   },
   "file_extension": ".py",
   "mimetype": "text/x-python",
   "name": "python",
   "nbconvert_exporter": "python",
   "pygments_lexer": "ipython3",
   "version": "3.8.3"
  }
 },
 "nbformat": 4,
 "nbformat_minor": 4
}
